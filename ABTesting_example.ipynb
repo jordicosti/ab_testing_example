{
 "cells": [
  {
   "cell_type": "markdown",
   "metadata": {},
   "source": [
    "<h1><center>Tutorial on A/B Testing</center></h1>"
   ]
  },
  {
   "cell_type": "code",
   "execution_count": 1,
   "metadata": {},
   "outputs": [],
   "source": [
    "# loading all the requisite libraries that will be required for the toy model\n",
    "import scipy.stats as st\n",
    "from scipy.stats import beta,norm,binom\n",
    "import matplotlib.pyplot as mplt\n",
    "import pandas as pd\n",
    "from ipywidgets import interact, interactive, fixed, interact_manual\n",
    "import ipywidgets as widgets\n",
    "import numpy as np\n",
    "import math\n"
   ]
  },
  {
   "cell_type": "markdown",
   "metadata": {},
   "source": [
    "We use data from Kaggle <a href=\"https://www.kaggle.com/yufengsui/mobile-games-ab-testing\">here</a>. Its a data on mobile game retention (a user does not uninstall the app). 1 day retention = user comes back to use the app one day after installing the app. 7 day retention = user comes back to use the app 7 days after uninstalling. We can start with analyzing the data."
   ]
  },
  {
   "cell_type": "code",
   "execution_count": 2,
   "metadata": {},
   "outputs": [],
   "source": [
    "data = pd.read_csv(\"data.csv\")"
   ]
  },
  {
   "cell_type": "code",
   "execution_count": 3,
   "metadata": {},
   "outputs": [
    {
     "data": {
      "text/html": [
       "<div>\n",
       "<style scoped>\n",
       "    .dataframe tbody tr th:only-of-type {\n",
       "        vertical-align: middle;\n",
       "    }\n",
       "\n",
       "    .dataframe tbody tr th {\n",
       "        vertical-align: top;\n",
       "    }\n",
       "\n",
       "    .dataframe thead th {\n",
       "        text-align: right;\n",
       "    }\n",
       "</style>\n",
       "<table border=\"1\" class=\"dataframe\">\n",
       "  <thead>\n",
       "    <tr style=\"text-align: right;\">\n",
       "      <th></th>\n",
       "      <th>userid</th>\n",
       "      <th>version</th>\n",
       "      <th>sum_gamerounds</th>\n",
       "      <th>retention_1</th>\n",
       "      <th>retention_7</th>\n",
       "    </tr>\n",
       "  </thead>\n",
       "  <tbody>\n",
       "    <tr>\n",
       "      <th>0</th>\n",
       "      <td>116</td>\n",
       "      <td>gate_30</td>\n",
       "      <td>3</td>\n",
       "      <td>False</td>\n",
       "      <td>False</td>\n",
       "    </tr>\n",
       "    <tr>\n",
       "      <th>1</th>\n",
       "      <td>337</td>\n",
       "      <td>gate_30</td>\n",
       "      <td>38</td>\n",
       "      <td>True</td>\n",
       "      <td>False</td>\n",
       "    </tr>\n",
       "    <tr>\n",
       "      <th>2</th>\n",
       "      <td>377</td>\n",
       "      <td>gate_40</td>\n",
       "      <td>165</td>\n",
       "      <td>True</td>\n",
       "      <td>False</td>\n",
       "    </tr>\n",
       "    <tr>\n",
       "      <th>3</th>\n",
       "      <td>483</td>\n",
       "      <td>gate_40</td>\n",
       "      <td>1</td>\n",
       "      <td>False</td>\n",
       "      <td>False</td>\n",
       "    </tr>\n",
       "    <tr>\n",
       "      <th>4</th>\n",
       "      <td>488</td>\n",
       "      <td>gate_40</td>\n",
       "      <td>179</td>\n",
       "      <td>True</td>\n",
       "      <td>True</td>\n",
       "    </tr>\n",
       "  </tbody>\n",
       "</table>\n",
       "</div>"
      ],
      "text/plain": [
       "   userid  version  sum_gamerounds  retention_1  retention_7\n",
       "0     116  gate_30               3        False        False\n",
       "1     337  gate_30              38         True        False\n",
       "2     377  gate_40             165         True        False\n",
       "3     483  gate_40               1        False        False\n",
       "4     488  gate_40             179         True         True"
      ]
     },
     "execution_count": 3,
     "metadata": {},
     "output_type": "execute_result"
    }
   ],
   "source": [
    "data.head()"
   ]
  },
  {
   "cell_type": "markdown",
   "metadata": {},
   "source": [
    "control        = gate_30 in column: version <br>\n",
    "treatment      = gate_40 in column: version <br>\n",
    "sum_gamerounds = number of games a user played in first 14 days after installing the app"
   ]
  },
  {
   "cell_type": "markdown",
   "metadata": {},
   "source": [
    "<h3>Data Exploration</h3>"
   ]
  },
  {
   "cell_type": "code",
   "execution_count": 4,
   "metadata": {},
   "outputs": [
    {
     "name": "stdout",
     "output_type": "stream",
     "text": [
      "gate_40    45489\n",
      "gate_30    44700\n",
      "Name: version, dtype: int64\n",
      "NOTE:Number of users in control and treatment group are similar\n"
     ]
    }
   ],
   "source": [
    "print(data['version'].value_counts())\n",
    "print(\"NOTE:Number of users in control and treatment group are similar\")"
   ]
  },
  {
   "cell_type": "code",
   "execution_count": 5,
   "metadata": {},
   "outputs": [
    {
     "name": "stdout",
     "output_type": "stream",
     "text": [
      "False    50036\n",
      "True     40153\n",
      "Name: retention_1, dtype: int64\n"
     ]
    }
   ],
   "source": [
    "print(data['retention_1'].value_counts())"
   ]
  },
  {
   "cell_type": "code",
   "execution_count": 6,
   "metadata": {},
   "outputs": [
    {
     "name": "stdout",
     "output_type": "stream",
     "text": [
      "False    73408\n",
      "True     16781\n",
      "Name: retention_7, dtype: int64\n"
     ]
    }
   ],
   "source": [
    "print(data['retention_7'].value_counts())"
   ]
  },
  {
   "cell_type": "code",
   "execution_count": 7,
   "metadata": {},
   "outputs": [
    {
     "name": "stdout",
     "output_type": "stream",
     "text": [
      "Box plot shows that there is one outlier, we can filter now but outliers should be investigated as why such a big number is observed\n"
     ]
    },
    {
     "data": {
      "image/png": "[encoded data removed]",
      "text/plain": [
       "<Figure size 1296x288 with 2 Axes>"
      ]
     },
     "metadata": {
      "needs_background": "light"
     },
     "output_type": "display_data"
    }
   ],
   "source": [
    "fig = mplt.figure(figsize=(18,4))\n",
    "mplt.subplot(1,2,1)\n",
    "mplt.hist(data['sum_gamerounds'],bins=100);\n",
    "\n",
    "mplt.subplot(1,2,2)\n",
    "mplt.boxplot(data['sum_gamerounds']);\n",
    "\n",
    "print(\"Box plot shows that there is one outlier, we can filter now but outliers should be investigated as why such a big number is observed\")"
   ]
  },
  {
   "cell_type": "code",
   "execution_count": 8,
   "metadata": {},
   "outputs": [
    {
     "data": {
      "image/png": "[encoded data removed]",
      "text/plain": [
       "<Figure size 1296x288 with 2 Axes>"
      ]
     },
     "metadata": {
      "needs_background": "light"
     },
     "output_type": "display_data"
    }
   ],
   "source": [
    "# filtering the data\n",
    "# assuming that user have played at max 100 games (to ensure we are colleting data from legitimate data and not bots)\n",
    "data = data[data['sum_gamerounds']<100]\n",
    "\n",
    "fig = mplt.figure(figsize=(18,4))\n",
    "mplt.subplot(1,2,1)\n",
    "mplt.hist(data['sum_gamerounds'],bins=100);\n",
    "\n",
    "mplt.subplot(1,2,2)\n",
    "mplt.boxplot(data['sum_gamerounds']);\n",
    "\n",
    "# note that there are gaps in the histogram of the columns sum_gamerouds: this could be an error and should be checked."
   ]
  },
  {
   "cell_type": "code",
   "execution_count": 9,
   "metadata": {},
   "outputs": [
    {
     "name": "stdout",
     "output_type": "stream",
     "text": [
      "there are 0 users wiht null gamerounds from a total of 77673 users (after removing the outlier)\n"
     ]
    }
   ],
   "source": [
    "print('there are {a} users wiht null gamerounds from a total of {b} users (after removing the outlier)'.format(a = data['sum_gamerounds'].isna().sum(), b = data['sum_gamerounds'].count()))"
   ]
  },
  {
   "cell_type": "code",
   "execution_count": 10,
   "metadata": {},
   "outputs": [
    {
     "data": {
      "text/html": [
       "<div>\n",
       "<style scoped>\n",
       "    .dataframe tbody tr th:only-of-type {\n",
       "        vertical-align: middle;\n",
       "    }\n",
       "\n",
       "    .dataframe tbody tr th {\n",
       "        vertical-align: top;\n",
       "    }\n",
       "\n",
       "    .dataframe thead th {\n",
       "        text-align: right;\n",
       "    }\n",
       "</style>\n",
       "<table border=\"1\" class=\"dataframe\">\n",
       "  <thead>\n",
       "    <tr style=\"text-align: right;\">\n",
       "      <th></th>\n",
       "      <th>userid</th>\n",
       "      <th>version</th>\n",
       "      <th>sum_gamerounds</th>\n",
       "      <th>retention_1</th>\n",
       "      <th>retention_7</th>\n",
       "    </tr>\n",
       "  </thead>\n",
       "  <tbody>\n",
       "    <tr>\n",
       "      <th>0</th>\n",
       "      <td>116</td>\n",
       "      <td>gate_30</td>\n",
       "      <td>3</td>\n",
       "      <td>False</td>\n",
       "      <td>False</td>\n",
       "    </tr>\n",
       "    <tr>\n",
       "      <th>1</th>\n",
       "      <td>337</td>\n",
       "      <td>gate_30</td>\n",
       "      <td>38</td>\n",
       "      <td>True</td>\n",
       "      <td>False</td>\n",
       "    </tr>\n",
       "    <tr>\n",
       "      <th>3</th>\n",
       "      <td>483</td>\n",
       "      <td>gate_40</td>\n",
       "      <td>1</td>\n",
       "      <td>False</td>\n",
       "      <td>False</td>\n",
       "    </tr>\n",
       "    <tr>\n",
       "      <th>6</th>\n",
       "      <td>1066</td>\n",
       "      <td>gate_30</td>\n",
       "      <td>0</td>\n",
       "      <td>False</td>\n",
       "      <td>False</td>\n",
       "    </tr>\n",
       "    <tr>\n",
       "      <th>7</th>\n",
       "      <td>1444</td>\n",
       "      <td>gate_40</td>\n",
       "      <td>2</td>\n",
       "      <td>False</td>\n",
       "      <td>False</td>\n",
       "    </tr>\n",
       "  </tbody>\n",
       "</table>\n",
       "</div>"
      ],
      "text/plain": [
       "   userid  version  sum_gamerounds  retention_1  retention_7\n",
       "0     116  gate_30               3        False        False\n",
       "1     337  gate_30              38         True        False\n",
       "3     483  gate_40               1        False        False\n",
       "6    1066  gate_30               0        False        False\n",
       "7    1444  gate_40               2        False        False"
      ]
     },
     "execution_count": 10,
     "metadata": {},
     "output_type": "execute_result"
    }
   ],
   "source": [
    "data.head()"
   ]
  },
  {
   "cell_type": "markdown",
   "metadata": {},
   "source": [
    "<h3>A/A Testing</h3>"
   ]
  },
  {
   "cell_type": "markdown",
   "metadata": {},
   "source": [
    "We first use data for the 10,000 users from control group for our A/A testing and building the prior (getting an idea of the probability of uninstalls)"
   ]
  },
  {
   "cell_type": "code",
   "execution_count": 11,
   "metadata": {},
   "outputs": [
    {
     "data": {
      "text/plain": [
       "((5000, 5), (5000, 5), (28532, 5), (29141, 5))"
      ]
     },
     "execution_count": 11,
     "metadata": {},
     "output_type": "execute_result"
    }
   ],
   "source": [
    "# first collecting the data for A/A testing from the control group \n",
    "# for that, randomize the data and collect first 10,000 users data for the control group\n",
    "# then split these 10,000 users into two groups of 5000 randomly\n",
    "\n",
    "# random seed is to get the same results everytime the code is run\n",
    "np.random.seed(0)\n",
    "\n",
    "\n",
    "# shuffle randomly\n",
    "data_random  = data[data['version']=='gate_30'].sample(frac=1).reset_index(drop=True)\n",
    "\n",
    "# shuffle again (not really required here as we have already shuffled but for the sake of randomization)\n",
    "random_index = np.random.permutation(10000)\n",
    "data_A1     = data_random.iloc[random_index[0:5000]]\n",
    "data_A2     = data_random.iloc[random_index[5000:10000]]\n",
    "\n",
    "# we make sure that these users are not selected for our A/B testing as we have already seen their data\n",
    "# to make the sample size for A/B approximately similar, we can remove first 10,000 users from treatement group\n",
    "data_control = data_random.iloc[10000:]\n",
    "data_treatment = data[data['version']=='gate_40'].sample(frac=1).reset_index(drop=True).iloc[10000:]\n",
    "\n",
    "data_A1.shape,data_A2.shape,data_control.shape, data_treatment.shape"
   ]
  },
  {
   "cell_type": "code",
   "execution_count": 12,
   "metadata": {},
   "outputs": [
    {
     "data": {
      "image/png": "[encoded data removed]",
      "text/plain": [
       "<Figure size 432x288 with 1 Axes>"
      ]
     },
     "metadata": {
      "needs_background": "light"
     },
     "output_type": "display_data"
    }
   ],
   "source": [
    "# check the probability of uninstalls (we consider day 7 retention as our metric in this case) fro A/A testing\n",
    "p_A1 = data_A1['retention_7'].value_counts().values[1]/len(data_A1) #we use values[1] bc we want the True value (False would be 0)\n",
    "p_A2 = data_A2['retention_7'].value_counts().values[1]/len(data_A2)\n",
    "\n",
    "# We can use normal approximation for calculating the confidence interval  \n",
    "ll_A1,ul_A1 = p_A1-np.sqrt((p_A1*(1-p_A1))/len(data_A1)),p_A1+np.sqrt((p_A1*(1-p_A1))/len(data_A1))\n",
    "ll_A2,ul_A2 = p_A2-np.sqrt((p_A2*(1-p_A2))/len(data_A2)),p_A2+np.sqrt((p_A2*(1-p_A2))/len(data_A2))\n",
    "\n",
    "mplt.plot([1,1],[ll_A1,ul_A1],color='green',label='A1')\n",
    "mplt.plot([2,2],[ll_A2,ul_A2],color='blue', label='A2')\n",
    "mplt.scatter([1],[p_A1],color='green')\n",
    "mplt.scatter([2],[p_A2],color='blue')\n",
    "mplt.legend();\n",
    "mplt.xlim(-1,4);"
   ]
  },
  {
   "cell_type": "markdown",
   "metadata": {},
   "source": [
    "<u>Observation</u> <br>\n",
    "We can observe that the confidence intervals intersect. So statistically, there is no difference between the two groups in A/A testing. This is a good sanity check to perform and check if the data is collected correctly. We can also draw the distribution of 'sum_gameround' to check if the distribution across the two groups in similar. \n",
    "\n",
    "\n",
    "The following figure also illustrates that we should keep a track of other metrics as well and they should still make sense."
   ]
  },
  {
   "cell_type": "code",
   "execution_count": 13,
   "metadata": {},
   "outputs": [
    {
     "data": {
      "image/png": "[encoded data removed]",
      "text/plain": [
       "<Figure size 1296x288 with 2 Axes>"
      ]
     },
     "metadata": {
      "needs_background": "light"
     },
     "output_type": "display_data"
    }
   ],
   "source": [
    "fig = mplt.figure(figsize=(18,4))\n",
    "mplt.subplot(1,2,1)\n",
    "mplt.hist(data_A1['sum_gamerounds'],bins=100);\n",
    "\n",
    "mplt.subplot(1,2,2)\n",
    "mplt.hist(data_A2['sum_gamerounds'],bins=100);"
   ]
  },
  {
   "cell_type": "code",
   "execution_count": 14,
   "metadata": {},
   "outputs": [
    {
     "data": {
      "text/plain": [
       "0.1084"
      ]
     },
     "execution_count": 14,
     "metadata": {},
     "output_type": "execute_result"
    }
   ],
   "source": [
    "# collecting data for the prior distribution\n",
    "# this is the retention rate in the app (we can collect more than 10,000 user to build prior, these are subjective questions)\n",
    "# and they can be answered best by people with domain knowledge in the company\n",
    "np.random.seed(0)\n",
    "\n",
    "data_prior  = data[data['version']=='gate_30'].sample(frac=1).reset_index(drop=True).iloc[0:10000]\n",
    "p_prior     = data_prior['retention_7'].value_counts().values[1]/len(data_prior)\n",
    "\n",
    "p_prior"
   ]
  },
  {
   "cell_type": "markdown",
   "metadata": {},
   "source": [
    "<h3>A/B testing</h3>"
   ]
  },
  {
   "cell_type": "code",
   "execution_count": 15,
   "metadata": {},
   "outputs": [
    {
     "data": {
      "image/png": "[encoded data removed]",
      "text/plain": [
       "<Figure size 432x288 with 1 Axes>"
      ]
     },
     "metadata": {
      "needs_background": "light"
     },
     "output_type": "display_data"
    }
   ],
   "source": [
    "# check the probability of uninstalls (we consider day 7 retention as our metric in this case) fro A/A testing\n",
    "p_control = data_control['retention_7'].value_counts().values[1]/len(data_control)\n",
    "p_treatment = data_treatment['retention_7'].value_counts().values[1]/len(data_treatment)\n",
    "\n",
    "# We can use normal approximation for calculating the confidence interval  \n",
    "ll_control,ul_control = p_control-np.sqrt((p_control*(1-p_control))/len(data_control)),p_control+np.sqrt((p_control*(1-p_control))/len(data_control))\n",
    "ll_treatment,ul_treatment = p_treatment-np.sqrt((p_treatment*(1-p_treatment))/len(data_treatment)),p_treatment+np.sqrt((p_treatment*(1-p_treatment))/len(data_treatment))\n",
    "\n",
    "mplt.plot([1,1],[ll_control,ul_control],color='green',label='control')\n",
    "mplt.plot([2,2],[ll_treatment,ul_treatment],color='blue', label='treatment')\n",
    "mplt.scatter([1],[p_control],color='green')\n",
    "mplt.scatter([2],[p_treatment],color='blue')\n",
    "mplt.legend();\n",
    "mplt.xlim(-1,4);"
   ]
  },
  {
   "cell_type": "markdown",
   "metadata": {},
   "source": [
    "<u>Observation</u> <br>\n",
    "We can observe that the 7 day retention for the control group (gate_30) is higher than the treatment group (and statistically different too). Thus, we can say that it is better to keep gate_30 rather than gate_40 if the company wants higher retention. NOTE that the results have been obtained based on some filtering we did earlier. Results might change based on how we use the filter and all these analysis should be done before presenting the final conclusion."
   ]
  },
  {
   "cell_type": "code",
   "execution_count": 16,
   "metadata": {},
   "outputs": [
    {
     "data": {
      "image/png": "[encoded data removed]",
      "text/plain": [
       "<Figure size 432x288 with 1 Axes>"
      ]
     },
     "metadata": {
      "needs_background": "light"
     },
     "output_type": "display_data"
    }
   ],
   "source": [
    "n  = len(data_control)\n",
    "p  = data_control['retention_7'].value_counts().values[1]/n\n",
    "x = np.arange(binom.ppf(0.01, n, p),binom.ppf(0.99, n, p))\n",
    "mplt.plot(x, binom.pmf(x, n, p), 'o', ms=8, label='control',color='orange')\n",
    "mplt.axvline(x=n*p,c='orange')                            \n",
    "\n",
    "n  = len(data_treatment)\n",
    "p  = data_treatment['retention_7'].value_counts().values[1]/n\n",
    "x = np.arange(binom.ppf(0.01, n, p),binom.ppf(0.99, n, p))\n",
    "mplt.plot(x, binom.pmf(x, n, p), 'o', ms=8, label='treatment',color='blue')\n",
    "mplt.axvline(x=n*p,c='blue') \n",
    "mplt.legend();\n"
   ]
  },
  {
   "cell_type": "code",
   "execution_count": 17,
   "metadata": {},
   "outputs": [
    {
     "name": "stdout",
     "output_type": "stream",
     "text": [
      "performing t test\n",
      "Ttest_indResult(statistic=4.3223274439107175, pvalue=1.5465013030125154e-05)\n"
     ]
    }
   ],
   "source": [
    "def trueFalse(x):\n",
    "    if 'True' in str(x):\n",
    "        c = 1\n",
    "    else:\n",
    "        c = 0\n",
    "    return(c)\n",
    "print('performing t test')\n",
    "distribution1 = data_control['retention_7'].apply(lambda x:trueFalse(x))\n",
    "distribution2 = data_treatment['retention_7'].apply(lambda x:trueFalse(x))\n",
    "print(st.ttest_ind(distribution1,distribution2))"
   ]
  },
  {
   "cell_type": "markdown",
   "metadata": {},
   "source": [
    "<u>Observation</u> <br>\n",
    "p value < 0.05 shows that the the performance of gate_30 and gate_40 (control and treatment) is significantly (statistically) different. Since retention is lower for gate_40, gate_30 (control) should be continued and gate_40 (treatment) should not be introduced. This also shows that A/B testing may not always be improving the system, they might make the system worse."
   ]
  },
  {
   "cell_type": "markdown",
   "metadata": {},
   "source": [
    "<h3>sample size</h3>\n",
    "\n",
    "After we finish the first run, we observe that the treatment group performs worse than the control group and thus gate_40 should not be introduced in the app. However, was the sample size big enough? Our analysis considered around 27000 samples for each group. We can check sample size based on what difference we would like to observe. We will use p_prior as our baseline probability.\n",
    "\n",
    "Result below show that we do NOT have enough samples in our data to observe a 1% difference between the metric in control and treatment group. We can detect not lower than 5% change. However, if we want to detect a 1% change in the performance, we should collect more data. Thus before rejecting the treatment, more samples are to be calculated."
   ]
  },
  {
   "cell_type": "code",
   "execution_count": 18,
   "metadata": {},
   "outputs": [
    {
     "data": {
      "application/vnd.jupyter.widget-view+json": {
       "model_id": "93ca40b71ecb43a397c8a6240dc97826",
       "version_major": 2,
       "version_minor": 0
      },
      "text/plain": [
       "interactive(children=(FloatSlider(value=0.01, description='delta', max=0.1, min=0.01, step=0.001), FloatSlider…"
      ]
     },
     "metadata": {},
     "output_type": "display_data"
    }
   ],
   "source": [
    "@interact(delta=(0.01,0.1,0.001), power=(0.6,0.95,0.05))\n",
    "def posterior(delta=0.01,power=0.6):\n",
    "    p = p_prior\n",
    "    z_alpha = st.norm.ppf(1-0.05/2)    # significance level = 0.05\n",
    "    z_beta  = st.norm.ppf(power/2)\n",
    "    print('p:',p,'\\ndelta value:',delta, 'power value:',power)\n",
    "    var_p = p*(1-p)\n",
    "    size = 2*int(var_p*math.pow(z_alpha+z_beta,2)/math.pow(delta*p,2))\n",
    "    print(\"\\nsample size:\", size)"
   ]
  },
  {
   "cell_type": "markdown",
   "metadata": {},
   "source": [
    "<h2>More on When to Stop A/B Testing</h2>"
   ]
  },
  {
   "cell_type": "markdown",
   "metadata": {},
   "source": [
    "It is important to understand when should we stop the experiment (or for how long the A/B testing be continued to collect enough data). <b>We checked the p-value at the end of the data collection</b>. It is a common mistake to stop the experiment too soon and make wrong decision. However, conducting the experiments can be expensive. The method of using p-value for identifying if the treatment performs good or not assumes we know the sample size and effect we want to check ($\\delta$). Sometimes, we dont know how much $\\delta$ we can gain from the feature we are testing. For example, if $\\delta$ of 0.2% can be observed, but we are only interested in 2%, our experiments will never be significant (which may cause loss of 0.2% potential gain). However, as more data is collected, and continuously check the p-value, we may observe fluctuating p-value and we are likely to see an effect, even if there is none. So when should we stop?"
   ]
  },
  {
   "cell_type": "markdown",
   "metadata": {},
   "source": [
    "<img src=\"airBnB.png\" width=\"800\">\n",
    "<center>Image from AirBnB (<a href=\"https://medium.com/airbnb-engineering/experiments-at-airbnb-e2db3abf39e7\">here</a>)</center>"
   ]
  },
  {
   "cell_type": "code",
   "execution_count": 19,
   "metadata": {},
   "outputs": [],
   "source": [
    "# We can also check out test for continuous monitoring\n",
    "# We can plot p-value after every 1000 data points.\n",
    "\n",
    "def trueFalse(x):\n",
    "    if 'True' in str(x):\n",
    "        c = 1\n",
    "    else:\n",
    "        c = 0\n",
    "    return(c)\n",
    "\n",
    "distribution1 = data_control['retention_7'].apply(lambda x:trueFalse(x))\n",
    "distribution2 = data_treatment['retention_7'].apply(lambda x:trueFalse(x))\n",
    "\n",
    "p_value = []\n",
    "p_A1    = []\n",
    "p_A2    = []\n",
    "\n",
    "# we obtain values 28 times (every 1000)\n",
    "for t in range(28):\n",
    "    p_value.append(st.ttest_ind(distribution1.iloc[0:1000*(t)],distribution2.iloc[0:1000*(t)])[1])\n",
    "    p_A1.append(np.mean(distribution1.iloc[0:1000*(t)]))\n",
    "    p_A2.append(np.mean(distribution2.iloc[0:1000*(t)]))"
   ]
  },
  {
   "cell_type": "code",
   "execution_count": 20,
   "metadata": {},
   "outputs": [
    {
     "data": {
      "text/plain": [
       "Text(0.5, 0, 'number of data points x 1000')"
      ]
     },
     "execution_count": 20,
     "metadata": {},
     "output_type": "execute_result"
    },
    {
     "data": {
      "image/png": "[encoded data removed]",
      "text/plain": [
       "<Figure size 1296x288 with 2 Axes>"
      ]
     },
     "metadata": {
      "needs_background": "light"
     },
     "output_type": "display_data"
    }
   ],
   "source": [
    "fig,ax = mplt.subplots(1,1,figsize=(18,4))\n",
    "ax.plot(p_A1,label='p_A1',color='blue')\n",
    "ax.plot(p_A2,label='p_A2',color='green')\n",
    "ax.legend()\n",
    "ax.set_ylabel('probability of retention',fontsize=16)\n",
    "ax2 = ax.twinx()\n",
    "ax2.plot(p_value,label='p_value',color='orange')\n",
    "ax2.legend()\n",
    "ax2.set_ylabel('p-value',color='orange',fontsize=16);\n",
    "ax.set_xlabel('number of data points x 1000')"
   ]
  },
  {
   "cell_type": "markdown",
   "metadata": {},
   "source": [
    "<u>Observation</u> <br>\n",
    "When the number of observations is lower, p value is highly volatile. As more and more data is collected, p-value, p_A1 and pA2 become stable (so we are safe to make a decision that gate_40 may not be a better alternative to gate_30 however, more data may have to be collected)."
   ]
  }
 ],
 "metadata": {
  "hide_input": false,
  "kernelspec": {
   "display_name": "Python 3",
   "language": "python",
   "name": "python3"
  },
  "language_info": {
   "codemirror_mode": {
    "name": "ipython",
    "version": 3
   },
   "file_extension": ".py",
   "mimetype": "text/x-python",
   "name": "python",
   "nbconvert_exporter": "python",
   "pygments_lexer": "ipython3",
   "version": "3.8.5"
  },
  "toc": {
   "base_numbering": 1,
   "nav_menu": {},
   "number_sections": true,
   "sideBar": true,
   "skip_h1_title": true,
   "title_cell": "Table of Contents",
   "title_sidebar": "Contents",
   "toc_cell": false,
   "toc_position": {
    "height": "calc(100% - 180px)",
    "left": "10px",
    "top": "150px",
    "width": "319.306px"
   },
   "toc_section_display": true,
   "toc_window_display": true
  },
  "varInspector": {
   "cols": {
    "lenName": 16,
    "lenType": 16,
    "lenVar": 40
   },
   "kernels_config": {
    "python": {
     "delete_cmd_postfix": "",
     "delete_cmd_prefix": "del ",
     "library": "var_list.py",
     "varRefreshCmd": "print(var_dic_list())"
    },
    "r": {
     "delete_cmd_postfix": ") ",
     "delete_cmd_prefix": "rm(",
     "library": "var_list.r",
     "varRefreshCmd": "cat(var_dic_list()) "
    }
   },
   "types_to_exclude": [
    "module",
    "function",
    "builtin_function_or_method",
    "instance",
    "_Feature"
   ],
   "window_display": false
  }
 },
 "nbformat": 4,
 "nbformat_minor": 2
}
